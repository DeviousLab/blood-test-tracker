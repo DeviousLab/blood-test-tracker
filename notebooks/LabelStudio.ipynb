{
 "cells": [
  {
   "cell_type": "code",
   "execution_count": 1,
   "id": "98732ea9",
   "metadata": {},
   "outputs": [],
   "source": [
    "import os\n",
    "import json\n",
    "import pytesseract\n",
    "from PIL import Image\n",
    "from pathlib import Path\n",
    "from uuid import uuid4"
   ]
  },
  {
   "cell_type": "code",
   "execution_count": 2,
   "id": "b9fa1391",
   "metadata": {},
   "outputs": [],
   "source": [
    "# tesseract output levels for the level of detail for the bounding boxes\n",
    "LEVELS = {\n",
    "    'page_num': 1,\n",
    "    'block_num': 2,\n",
    "    'par_num': 3,\n",
    "    'line_num': 4,\n",
    "    'word_num': 5\n",
    "}"
   ]
  },
  {
   "cell_type": "code",
   "execution_count": 3,
   "id": "04cbc551",
   "metadata": {},
   "outputs": [],
   "source": [
    "def create_image_url(filepath):\n",
    "    \"\"\"\n",
    "    Label Studio requires image URLs, so this defines the mapping from filesystem to URLs\n",
    "    if you use ./serve_local_files.sh <my-images-dir>, the image URLs are localhost:8081/filename.png\n",
    "    Otherwise you can build links like /data/upload/filename.png to refer to the files\n",
    "    \"\"\"\n",
    "    filename = os.path.basename(filepath)\n",
    "    return f'http://localhost:8081/{filename}'"
   ]
  },
  {
   "cell_type": "code",
   "execution_count": 4,
   "id": "4563dbcc",
   "metadata": {},
   "outputs": [],
   "source": [
    "def convert_to_ls(image, tesseract_output, per_level='block_num'):\n",
    "    \"\"\"\n",
    "    :param image: PIL image object\n",
    "    :param tesseract_output: the output from tesseract\n",
    "    :param per_level: control the granularity of bboxes from tesseract\n",
    "    :return: tasks.json ready to be imported into Label Studio with \"Optical Character Recognition\" template\n",
    "    \"\"\"\n",
    "    image_width, image_height = image.size\n",
    "    per_level_idx = LEVELS[per_level]\n",
    "    results = []\n",
    "    all_scores = []\n",
    "    for i, level_idx in enumerate(tesseract_output['level']):\n",
    "        if level_idx == per_level_idx:\n",
    "            bbox = {\n",
    "                'x': 100 * tesseract_output['left'][i] / image_width,\n",
    "                'y': 100 * tesseract_output['top'][i] / image_height,\n",
    "                'width': 100 * tesseract_output['width'][i] / image_width,\n",
    "                'height': 100 * tesseract_output['height'][i] / image_height,\n",
    "                'rotation': 0\n",
    "            }\n",
    "\n",
    "            words, confidences = [], []\n",
    "            for j, curr_id in enumerate(tesseract_output[per_level]):\n",
    "                if curr_id != tesseract_output[per_level][i]:\n",
    "                    continue\n",
    "                word = tesseract_output['text'][j]\n",
    "                confidence = tesseract_output['conf'][j]\n",
    "                words.append(word)\n",
    "                if confidence != '-1':\n",
    "                    confidences.append(float(confidence / 100.))\n",
    "\n",
    "            text = ' '.join(words).strip()\n",
    "            if not text:\n",
    "                continue\n",
    "            region_id = str(uuid4())[:10]\n",
    "            score = sum(confidences) / len(confidences) if confidences else 0\n",
    "            bbox_result = {\n",
    "                'id': region_id, 'from_name': 'bbox', 'to_name': 'image', 'type': 'rectangle',\n",
    "                'value': bbox}\n",
    "            transcription_result = {\n",
    "                'id': region_id, 'from_name': 'transcription', 'to_name': 'image', 'type': 'textarea',\n",
    "                'value': dict(text=[text], **bbox), 'score': score}\n",
    "            results.extend([bbox_result, transcription_result])\n",
    "            all_scores.append(score)\n",
    "\n",
    "    return {\n",
    "        'data': {\n",
    "            'ocr': create_image_url(image.filename)\n",
    "        },\n",
    "        'predictions': [{\n",
    "            'result': results,\n",
    "            'score': sum(all_scores) / len(all_scores) if all_scores else 0\n",
    "        }]\n",
    "    }"
   ]
  },
  {
   "cell_type": "code",
   "execution_count": 5,
   "id": "f55f7523",
   "metadata": {},
   "outputs": [],
   "source": [
    "tasks = []\n",
    "# collect the receipt images from the image directory\n",
    "for f in Path('Samples').glob('*.jpg'):\n",
    "    with Image.open(f.absolute()) as image:\n",
    "        tesseract_output = pytesseract.image_to_data(image, output_type=pytesseract.Output.DICT)\n",
    "        task = convert_to_ls(image, tesseract_output, per_level='block_num')\n",
    "        tasks.append(task)\n",
    "\n",
    "# create a file to import into Label Studio\n",
    "with open('ocr_tasks.json', mode='w') as f:\n",
    "    json.dump(tasks, f, indent=2)"
   ]
  },
  {
   "cell_type": "code",
   "execution_count": null,
   "id": "655f1f81",
   "metadata": {},
   "outputs": [],
   "source": []
  }
 ],
 "metadata": {
  "kernelspec": {
   "display_name": "Python 3 (ipykernel)",
   "language": "python",
   "name": "python3"
  },
  "language_info": {
   "codemirror_mode": {
    "name": "ipython",
    "version": 3
   },
   "file_extension": ".py",
   "mimetype": "text/x-python",
   "name": "python",
   "nbconvert_exporter": "python",
   "pygments_lexer": "ipython3",
   "version": "3.10.6"
  }
 },
 "nbformat": 4,
 "nbformat_minor": 5
}
